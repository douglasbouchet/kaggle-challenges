{
 "cells": [
  {
   "cell_type": "code",
   "execution_count": 272,
   "metadata": {},
   "outputs": [],
   "source": [
    "# This Python 3 environment comes with many helpful analytics libraries installed\n",
    "# It is defined by the kaggle/python Docker image: https://github.com/kaggle/docker-python\n",
    "# For example, here's several helpful packages to load\n",
    "\n",
    "import numpy as np \n",
    "import pandas as pd \n",
    "import seaborn as sns\n",
    "import matplotlib.pyplot as plt\n",
    "import datetime\n",
    "import warnings\n",
    "#warnings.filterwarnings('ignore')\n",
    "\n",
    "import os\n",
    "for dirname, _, filenames in os.walk('/kaggle/input'):\n",
    "    for filename in filenames:\n",
    "        print(os.path.join(dirname, filename))\n",
    "\n",
    "# You can write up to 20GB to the current directory (/kaggle/working/) that gets preserved as output when you create a version using \"Save & Run All\" \n",
    "# You can also write temporary files to /kaggle/temp/, but they won't be saved outside of the current session"
   ]
  },
  {
   "cell_type": "code",
   "execution_count": 181,
   "metadata": {},
   "outputs": [],
   "source": [
    "df = pd.read_csv('/kaggle/input/child-mind-institute-detect-sleep-states/train_events.csv')\n",
    "#df = pd.read_csv('data/train_events.csv')\n",
    "df_series = pd.read_parquet('/kaggle/input/child-mind-institute-detect-sleep-states/train_series.parquet', engine='pyarrow')\n",
    "#df_series = pd.read_parquet('data/train_series.parquet', engine='pyarrow')"
   ]
  },
  {
   "cell_type": "code",
   "execution_count": 182,
   "metadata": {},
   "outputs": [
    {
     "data": {
      "text/html": [
       "<div>\n",
       "<style scoped>\n",
       "    .dataframe tbody tr th:only-of-type {\n",
       "        vertical-align: middle;\n",
       "    }\n",
       "\n",
       "    .dataframe tbody tr th {\n",
       "        vertical-align: top;\n",
       "    }\n",
       "\n",
       "    .dataframe thead th {\n",
       "        text-align: right;\n",
       "    }\n",
       "</style>\n",
       "<table border=\"1\" class=\"dataframe\">\n",
       "  <thead>\n",
       "    <tr style=\"text-align: right;\">\n",
       "      <th></th>\n",
       "      <th>series_id</th>\n",
       "      <th>night</th>\n",
       "      <th>event</th>\n",
       "      <th>step</th>\n",
       "      <th>timestamp</th>\n",
       "    </tr>\n",
       "  </thead>\n",
       "  <tbody>\n",
       "    <tr>\n",
       "      <th>0</th>\n",
       "      <td>038441c925bb</td>\n",
       "      <td>1</td>\n",
       "      <td>onset</td>\n",
       "      <td>4992.0</td>\n",
       "      <td>2018-08-14T22:26:00-0400</td>\n",
       "    </tr>\n",
       "    <tr>\n",
       "      <th>1</th>\n",
       "      <td>038441c925bb</td>\n",
       "      <td>1</td>\n",
       "      <td>wakeup</td>\n",
       "      <td>10932.0</td>\n",
       "      <td>2018-08-15T06:41:00-0400</td>\n",
       "    </tr>\n",
       "    <tr>\n",
       "      <th>2</th>\n",
       "      <td>038441c925bb</td>\n",
       "      <td>2</td>\n",
       "      <td>onset</td>\n",
       "      <td>20244.0</td>\n",
       "      <td>2018-08-15T19:37:00-0400</td>\n",
       "    </tr>\n",
       "    <tr>\n",
       "      <th>3</th>\n",
       "      <td>038441c925bb</td>\n",
       "      <td>2</td>\n",
       "      <td>wakeup</td>\n",
       "      <td>27492.0</td>\n",
       "      <td>2018-08-16T05:41:00-0400</td>\n",
       "    </tr>\n",
       "    <tr>\n",
       "      <th>4</th>\n",
       "      <td>038441c925bb</td>\n",
       "      <td>3</td>\n",
       "      <td>onset</td>\n",
       "      <td>39996.0</td>\n",
       "      <td>2018-08-16T23:03:00-0400</td>\n",
       "    </tr>\n",
       "  </tbody>\n",
       "</table>\n",
       "</div>"
      ],
      "text/plain": [
       "      series_id  night   event     step                 timestamp\n",
       "0  038441c925bb      1   onset   4992.0  2018-08-14T22:26:00-0400\n",
       "1  038441c925bb      1  wakeup  10932.0  2018-08-15T06:41:00-0400\n",
       "2  038441c925bb      2   onset  20244.0  2018-08-15T19:37:00-0400\n",
       "3  038441c925bb      2  wakeup  27492.0  2018-08-16T05:41:00-0400\n",
       "4  038441c925bb      3   onset  39996.0  2018-08-16T23:03:00-0400"
      ]
     },
     "execution_count": 182,
     "metadata": {},
     "output_type": "execute_result"
    }
   ],
   "source": [
    "df.head()"
   ]
  },
  {
   "cell_type": "code",
   "execution_count": 183,
   "metadata": {},
   "outputs": [
    {
     "data": {
      "text/html": [
       "<div>\n",
       "<style scoped>\n",
       "    .dataframe tbody tr th:only-of-type {\n",
       "        vertical-align: middle;\n",
       "    }\n",
       "\n",
       "    .dataframe tbody tr th {\n",
       "        vertical-align: top;\n",
       "    }\n",
       "\n",
       "    .dataframe thead th {\n",
       "        text-align: right;\n",
       "    }\n",
       "</style>\n",
       "<table border=\"1\" class=\"dataframe\">\n",
       "  <thead>\n",
       "    <tr style=\"text-align: right;\">\n",
       "      <th></th>\n",
       "      <th>series_id</th>\n",
       "      <th>step</th>\n",
       "      <th>timestamp</th>\n",
       "      <th>anglez</th>\n",
       "      <th>enmo</th>\n",
       "    </tr>\n",
       "  </thead>\n",
       "  <tbody>\n",
       "    <tr>\n",
       "      <th>4990</th>\n",
       "      <td>038441c925bb</td>\n",
       "      <td>4990</td>\n",
       "      <td>2018-08-14T22:25:50-0400</td>\n",
       "      <td>-78.709801</td>\n",
       "      <td>0.0097</td>\n",
       "    </tr>\n",
       "    <tr>\n",
       "      <th>4991</th>\n",
       "      <td>038441c925bb</td>\n",
       "      <td>4991</td>\n",
       "      <td>2018-08-14T22:25:55-0400</td>\n",
       "      <td>-78.730301</td>\n",
       "      <td>0.0104</td>\n",
       "    </tr>\n",
       "    <tr>\n",
       "      <th>4992</th>\n",
       "      <td>038441c925bb</td>\n",
       "      <td>4992</td>\n",
       "      <td>2018-08-14T22:26:00-0400</td>\n",
       "      <td>-78.690598</td>\n",
       "      <td>0.0099</td>\n",
       "    </tr>\n",
       "    <tr>\n",
       "      <th>4993</th>\n",
       "      <td>038441c925bb</td>\n",
       "      <td>4993</td>\n",
       "      <td>2018-08-14T22:26:05-0400</td>\n",
       "      <td>-78.664902</td>\n",
       "      <td>0.0099</td>\n",
       "    </tr>\n",
       "    <tr>\n",
       "      <th>4994</th>\n",
       "      <td>038441c925bb</td>\n",
       "      <td>4994</td>\n",
       "      <td>2018-08-14T22:26:10-0400</td>\n",
       "      <td>-78.465897</td>\n",
       "      <td>0.0101</td>\n",
       "    </tr>\n",
       "  </tbody>\n",
       "</table>\n",
       "</div>"
      ],
      "text/plain": [
       "         series_id  step                 timestamp     anglez    enmo\n",
       "4990  038441c925bb  4990  2018-08-14T22:25:50-0400 -78.709801  0.0097\n",
       "4991  038441c925bb  4991  2018-08-14T22:25:55-0400 -78.730301  0.0104\n",
       "4992  038441c925bb  4992  2018-08-14T22:26:00-0400 -78.690598  0.0099\n",
       "4993  038441c925bb  4993  2018-08-14T22:26:05-0400 -78.664902  0.0099\n",
       "4994  038441c925bb  4994  2018-08-14T22:26:10-0400 -78.465897  0.0101"
      ]
     },
     "execution_count": 183,
     "metadata": {},
     "output_type": "execute_result"
    }
   ],
   "source": [
    "df_series.query(\"series_id == '038441c925bb' & step >= 4990\").head()"
   ]
  },
  {
   "cell_type": "markdown",
   "metadata": {},
   "source": [
    "## Explanation\n",
    "\n",
    "The series_id is the device (i.e. the child). \n",
    "\n",
    "The parquet files contains all the data (anglez and enmo) of the sensor, for all the night. \n",
    "\n",
    "The .csv file contains labeled event occuring at some steps of the night. We can link both of them using the step and the series_id."
   ]
  },
  {
   "cell_type": "markdown",
   "metadata": {},
   "source": [
    "first serie has 389880 step\n",
    "\n",
    "we have 277 unique series"
   ]
  },
  {
   "cell_type": "markdown",
   "metadata": {},
   "source": [
    "## Data visualization"
   ]
  },
  {
   "cell_type": "code",
   "execution_count": 184,
   "metadata": {},
   "outputs": [],
   "source": [
    "sample = df_series.query(\"series_id == '038441c925bb' & 4800 <= step <= 5200\")"
   ]
  },
  {
   "cell_type": "code",
   "execution_count": 185,
   "metadata": {},
   "outputs": [
    {
     "data": {
      "image/png": "[encoded data removed]",
      "text/plain": [
       "<Figure size 1000x500 with 2 Axes>"
      ]
     },
     "metadata": {},
     "output_type": "display_data"
    }
   ],
   "source": [
    "fig, axes = plt.subplots(1, 2, figsize=(10, 5))\n",
    "axes = axes.flatten()\n",
    "for i, col in enumerate(['anglez', 'enmo']):\n",
    "    sns.lineplot(data=sample, x='step', y=col, ax=axes[i])\n",
    "    axes[i].set_title(f\"Bar Plot for {col}\")\n",
    "plt.tight_layout()\n",
    "plt.show()"
   ]
  },
  {
   "cell_type": "markdown",
   "metadata": {},
   "source": [
    "## Data engineering\n",
    "\n",
    "### Adjust Date format \n",
    "\n",
    "- split the current timestamp into year/month/day/hour/minute/seconds fields"
   ]
  },
  {
   "cell_type": "markdown",
   "metadata": {},
   "source": [
    "### Data cleaning\n",
    "\n",
    "We start by removing rows without timestamp, as they leads to error when converting the datetime. We will see later if it's possible \n",
    "to infer the timestamp for these values, but as the step is also missing, it might be really difficult.\n",
    "\n",
    "This concerns 51% of the data which is quite huge, but I will not be able to train a model without the timestamp at the moment so we will need\n",
    "to deal with it."
   ]
  },
  {
   "cell_type": "code",
   "execution_count": 294,
   "metadata": {},
   "outputs": [
    {
     "name": "stdout",
     "output_type": "stream",
     "text": [
      "Percentage data without timestamp: 51.0%\n",
      "Percentage data without step: 51.0%\n"
     ]
    }
   ],
   "source": [
    "print(f\"Percentage data without timestamp: {round(df.timestamp.isna().sum() / df.timestamp.count() * 100,0)}%\")\n",
    "print(f\"Percentage data without step: {round(df.step.isna().sum() / df.step.count() * 100,0)}%\")"
   ]
  },
  {
   "cell_type": "code",
   "execution_count": 295,
   "metadata": {},
   "outputs": [
    {
     "name": "stdout",
     "output_type": "stream",
     "text": [
      "Percentage data without timestamp: 0.0%\n",
      "Percentage data without step: 0.0%\n"
     ]
    }
   ],
   "source": [
    "# remove the rows with no timestamp\n",
    "df_cleaned = df[df.timestamp.notna()].copy()\n",
    "print(f\"Percentage data without timestamp: {round(df_cleaned.timestamp.isna().sum() / df_cleaned.timestamp.count() * 100,0)}%\")\n",
    "print(f\"Percentage data without step: {round(df_cleaned.step.isna().sum() / df_cleaned.step.count() * 100,0)}%\")"
   ]
  },
  {
   "cell_type": "markdown",
   "metadata": {},
   "source": [
    "If we attemp to convert the datetime field using pd.to_datetime, we might have errors due to the following rows for example:"
   ]
  },
  {
   "cell_type": "code",
   "execution_count": 296,
   "metadata": {},
   "outputs": [],
   "source": [
    "df_cleaned['timestamp'] = pd.to_datetime(df_cleaned['timestamp'])"
   ]
  },
  {
   "cell_type": "code",
   "execution_count": 297,
   "metadata": {},
   "outputs": [
    {
     "name": "stdout",
     "output_type": "stream",
     "text": [
      "series_id                 03d92c9f6f8a\n",
      "night                                5\n",
      "event                            onset\n",
      "step                           75756.0\n",
      "timestamp    2018-06-04 21:13:00-04:00\n",
      "Name: 54, dtype: object\n",
      "series_id                 03d92c9f6f8a\n",
      "night                                5\n",
      "event                            onset\n",
      "step                           75756.0\n",
      "timestamp    2018-06-05 01:13:00+00:00\n",
      "Name: 54, dtype: object\n"
     ]
    }
   ],
   "source": [
    "problematic_row = df_cleaned.loc[54]\n",
    "print(problematic_row)\n",
    "problematic_row['timestamp'] = problematic_row['timestamp'].astimezone(datetime.timezone.utc)\n",
    "print(problematic_row)\n"
   ]
  },
  {
   "cell_type": "markdown",
   "metadata": {},
   "source": [
    "This timestamp is in the format YYYY-MM-DD HH:MM:SS±HH:MM, which includes the time zone offset of \"-04:00\" (meaning it's 4 hours behind UTC).\n",
    "\n",
    "The issue arises because pandas is trying to convert this timestamp to a datetime64 object. However, datetime64 objects in pandas are not designed to handle time zone offsets. To convert a timezone-aware datetime to datetime64, we will convert it to UTC first:"
   ]
  },
  {
   "cell_type": "code",
   "execution_count": 298,
   "metadata": {},
   "outputs": [
    {
     "data": {
      "text/plain": [
       "series_id                 object\n",
       "night                      int64\n",
       "event                     object\n",
       "step                     float64\n",
       "timestamp    datetime64[ns, UTC]\n",
       "dtype: object"
      ]
     },
     "execution_count": 298,
     "metadata": {},
     "output_type": "execute_result"
    }
   ],
   "source": [
    "def convert_df_timestamp_to_utc(to_convert_df):\n",
    "    to_convert_df['timestamp'] = to_convert_df['timestamp'].apply(lambda x: x.astimezone(datetime.timezone.utc) if x.tzinfo else x)\n",
    "    return to_convert_df\n",
    "\n",
    "df_cleaned = convert_df_timestamp_to_utc(df_cleaned)\n",
    "df_cleaned.dtypes"
   ]
  },
  {
   "cell_type": "code",
   "execution_count": 299,
   "metadata": {},
   "outputs": [],
   "source": [
    "def split_timestamp(dataframe):\n",
    "    dataframe['year'] = dataframe.timestamp.dt.year\n",
    "    dataframe['month'] = dataframe.timestamp.dt.month\n",
    "    dataframe['day'] = dataframe.timestamp.dt.day\n",
    "    dataframe['hour'] = dataframe.timestamp.dt.hour\n",
    "    dataframe['minute'] = dataframe.timestamp.dt.minute\n",
    "    dataframe['second'] = dataframe.timestamp.dt.second\n",
    "    return dataframe"
   ]
  },
  {
   "cell_type": "code",
   "execution_count": 300,
   "metadata": {},
   "outputs": [
    {
     "data": {
      "text/html": [
       "<div>\n",
       "<style scoped>\n",
       "    .dataframe tbody tr th:only-of-type {\n",
       "        vertical-align: middle;\n",
       "    }\n",
       "\n",
       "    .dataframe tbody tr th {\n",
       "        vertical-align: top;\n",
       "    }\n",
       "\n",
       "    .dataframe thead th {\n",
       "        text-align: right;\n",
       "    }\n",
       "</style>\n",
       "<table border=\"1\" class=\"dataframe\">\n",
       "  <thead>\n",
       "    <tr style=\"text-align: right;\">\n",
       "      <th></th>\n",
       "      <th>series_id</th>\n",
       "      <th>night</th>\n",
       "      <th>event</th>\n",
       "      <th>step</th>\n",
       "      <th>year</th>\n",
       "      <th>month</th>\n",
       "      <th>day</th>\n",
       "      <th>hour</th>\n",
       "      <th>minute</th>\n",
       "      <th>second</th>\n",
       "    </tr>\n",
       "  </thead>\n",
       "  <tbody>\n",
       "    <tr>\n",
       "      <th>0</th>\n",
       "      <td>038441c925bb</td>\n",
       "      <td>1</td>\n",
       "      <td>onset</td>\n",
       "      <td>4992.0</td>\n",
       "      <td>2018</td>\n",
       "      <td>8</td>\n",
       "      <td>15</td>\n",
       "      <td>2</td>\n",
       "      <td>26</td>\n",
       "      <td>0</td>\n",
       "    </tr>\n",
       "    <tr>\n",
       "      <th>1</th>\n",
       "      <td>038441c925bb</td>\n",
       "      <td>1</td>\n",
       "      <td>wakeup</td>\n",
       "      <td>10932.0</td>\n",
       "      <td>2018</td>\n",
       "      <td>8</td>\n",
       "      <td>15</td>\n",
       "      <td>10</td>\n",
       "      <td>41</td>\n",
       "      <td>0</td>\n",
       "    </tr>\n",
       "    <tr>\n",
       "      <th>2</th>\n",
       "      <td>038441c925bb</td>\n",
       "      <td>2</td>\n",
       "      <td>onset</td>\n",
       "      <td>20244.0</td>\n",
       "      <td>2018</td>\n",
       "      <td>8</td>\n",
       "      <td>15</td>\n",
       "      <td>23</td>\n",
       "      <td>37</td>\n",
       "      <td>0</td>\n",
       "    </tr>\n",
       "    <tr>\n",
       "      <th>3</th>\n",
       "      <td>038441c925bb</td>\n",
       "      <td>2</td>\n",
       "      <td>wakeup</td>\n",
       "      <td>27492.0</td>\n",
       "      <td>2018</td>\n",
       "      <td>8</td>\n",
       "      <td>16</td>\n",
       "      <td>9</td>\n",
       "      <td>41</td>\n",
       "      <td>0</td>\n",
       "    </tr>\n",
       "    <tr>\n",
       "      <th>4</th>\n",
       "      <td>038441c925bb</td>\n",
       "      <td>3</td>\n",
       "      <td>onset</td>\n",
       "      <td>39996.0</td>\n",
       "      <td>2018</td>\n",
       "      <td>8</td>\n",
       "      <td>17</td>\n",
       "      <td>3</td>\n",
       "      <td>3</td>\n",
       "      <td>0</td>\n",
       "    </tr>\n",
       "  </tbody>\n",
       "</table>\n",
       "</div>"
      ],
      "text/plain": [
       "      series_id  night   event     step  year  month  day  hour  minute  \\\n",
       "0  038441c925bb      1   onset   4992.0  2018      8   15     2      26   \n",
       "1  038441c925bb      1  wakeup  10932.0  2018      8   15    10      41   \n",
       "2  038441c925bb      2   onset  20244.0  2018      8   15    23      37   \n",
       "3  038441c925bb      2  wakeup  27492.0  2018      8   16     9      41   \n",
       "4  038441c925bb      3   onset  39996.0  2018      8   17     3       3   \n",
       "\n",
       "   second  \n",
       "0       0  \n",
       "1       0  \n",
       "2       0  \n",
       "3       0  \n",
       "4       0  "
      ]
     },
     "execution_count": 300,
     "metadata": {},
     "output_type": "execute_result"
    }
   ],
   "source": [
    "df_cleaned = split_timestamp(df_cleaned)\n",
    "df_cleaned.drop(columns=['timestamp'], inplace=True)\n",
    "df_cleaned.head()"
   ]
  },
  {
   "cell_type": "code",
   "execution_count": 320,
   "metadata": {},
   "outputs": [],
   "source": [
    "# we can combine everything into one function\n",
    "def rm_timestamp_nan_and_split_date(to_convert):\n",
    "    n_null = to_convert.timestamp.isna().sum() \n",
    "    if n_null > 0:\n",
    "        # print(f\"Percentage data without timestamp before cleaning: {round(to_convert.timestamp.isna().sum() / to_convert.timestamp.count() * 100,0)}%\")\n",
    "        to_convert = to_convert[to_convert.timestamp.notna()]\n",
    "        # print(f\"Percentage data without timestamp after cleaning: {round(to_convert.timestamp.isna().sum() / to_convert.timestamp.count() * 100,0)}%\"))\n",
    "    print(\"1\")\n",
    "    to_convert['timestamp'] = pd.to_datetime(to_convert['timestamp'])\n",
    "    print(\"2\")\n",
    "    to_convert = convert_df_timestamp_to_utc(to_convert)\n",
    "    print(\"3\")\n",
    "    to_convert = split_timestamp(to_convert)\n",
    "    print(\"4\")\n",
    "    to_convert.drop(columns=['timestamp'], inplace=True)\n",
    "    print(\"5\")\n",
    "    return to_convert"
   ]
  },
  {
   "cell_type": "code",
   "execution_count": 326,
   "metadata": {},
   "outputs": [
    {
     "name": "stdout",
     "output_type": "stream",
     "text": [
      "1\n",
      "2\n",
      "3\n",
      "4\n",
      "5\n"
     ]
    },
    {
     "data": {
      "text/html": [
       "<div>\n",
       "<style scoped>\n",
       "    .dataframe tbody tr th:only-of-type {\n",
       "        vertical-align: middle;\n",
       "    }\n",
       "\n",
       "    .dataframe tbody tr th {\n",
       "        vertical-align: top;\n",
       "    }\n",
       "\n",
       "    .dataframe thead th {\n",
       "        text-align: right;\n",
       "    }\n",
       "</style>\n",
       "<table border=\"1\" class=\"dataframe\">\n",
       "  <thead>\n",
       "    <tr style=\"text-align: right;\">\n",
       "      <th></th>\n",
       "      <th>series_id</th>\n",
       "      <th>step</th>\n",
       "      <th>anglez</th>\n",
       "      <th>enmo</th>\n",
       "      <th>year</th>\n",
       "      <th>month</th>\n",
       "      <th>day</th>\n",
       "      <th>hour</th>\n",
       "      <th>minute</th>\n",
       "      <th>second</th>\n",
       "    </tr>\n",
       "  </thead>\n",
       "  <tbody>\n",
       "    <tr>\n",
       "      <th>0</th>\n",
       "      <td>038441c925bb</td>\n",
       "      <td>0</td>\n",
       "      <td>2.6367</td>\n",
       "      <td>0.0217</td>\n",
       "      <td>2018</td>\n",
       "      <td>8</td>\n",
       "      <td>14</td>\n",
       "      <td>19</td>\n",
       "      <td>30</td>\n",
       "      <td>0</td>\n",
       "    </tr>\n",
       "    <tr>\n",
       "      <th>1</th>\n",
       "      <td>038441c925bb</td>\n",
       "      <td>1</td>\n",
       "      <td>2.6368</td>\n",
       "      <td>0.0215</td>\n",
       "      <td>2018</td>\n",
       "      <td>8</td>\n",
       "      <td>14</td>\n",
       "      <td>19</td>\n",
       "      <td>30</td>\n",
       "      <td>5</td>\n",
       "    </tr>\n",
       "    <tr>\n",
       "      <th>2</th>\n",
       "      <td>038441c925bb</td>\n",
       "      <td>2</td>\n",
       "      <td>2.6370</td>\n",
       "      <td>0.0216</td>\n",
       "      <td>2018</td>\n",
       "      <td>8</td>\n",
       "      <td>14</td>\n",
       "      <td>19</td>\n",
       "      <td>30</td>\n",
       "      <td>10</td>\n",
       "    </tr>\n",
       "    <tr>\n",
       "      <th>3</th>\n",
       "      <td>038441c925bb</td>\n",
       "      <td>3</td>\n",
       "      <td>2.6368</td>\n",
       "      <td>0.0213</td>\n",
       "      <td>2018</td>\n",
       "      <td>8</td>\n",
       "      <td>14</td>\n",
       "      <td>19</td>\n",
       "      <td>30</td>\n",
       "      <td>15</td>\n",
       "    </tr>\n",
       "    <tr>\n",
       "      <th>4</th>\n",
       "      <td>038441c925bb</td>\n",
       "      <td>4</td>\n",
       "      <td>2.6368</td>\n",
       "      <td>0.0215</td>\n",
       "      <td>2018</td>\n",
       "      <td>8</td>\n",
       "      <td>14</td>\n",
       "      <td>19</td>\n",
       "      <td>30</td>\n",
       "      <td>20</td>\n",
       "    </tr>\n",
       "  </tbody>\n",
       "</table>\n",
       "</div>"
      ],
      "text/plain": [
       "      series_id  step  anglez    enmo  year  month  day  hour  minute  second\n",
       "0  038441c925bb     0  2.6367  0.0217  2018      8   14    19      30       0\n",
       "1  038441c925bb     1  2.6368  0.0215  2018      8   14    19      30       5\n",
       "2  038441c925bb     2  2.6370  0.0216  2018      8   14    19      30      10\n",
       "3  038441c925bb     3  2.6368  0.0213  2018      8   14    19      30      15\n",
       "4  038441c925bb     4  2.6368  0.0215  2018      8   14    19      30      20"
      ]
     },
     "execution_count": 326,
     "metadata": {},
     "output_type": "execute_result"
    }
   ],
   "source": [
    "# only on a subset of the data atm as takes ~ 700 seconds on full dataset on my machine so should be even slower on Kaggle\n",
    "df_series_cleaned = rm_timestamp_nan_and_split_date(df_series.head(1_000_000))\n",
    "#df_series_cleaned = rm_timestamp_nan_and_split_date(df_series.head(127_946_340))\n",
    "df_series_cleaned.head()"
   ]
  },
  {
   "cell_type": "markdown",
   "metadata": {},
   "source": [
    "# Feature ideas:\n",
    "\n",
    "- this is time series problem, look at kaggle tutorial\n",
    "- create some indicator, e.g moving average, or # spike in last hour,...\n",
    "- other "
   ]
  },
  {
   "cell_type": "markdown",
   "metadata": {},
   "source": []
  }
 ],
 "metadata": {
  "kernelspec": {
   "display_name": "kaggle",
   "language": "python",
   "name": "python3"
  },
  "language_info": {
   "codemirror_mode": {
    "name": "ipython",
    "version": 3
   },
   "file_extension": ".py",
   "mimetype": "text/x-python",
   "name": "python",
   "nbconvert_exporter": "python",
   "pygments_lexer": "ipython3",
   "version": "3.11.5"
  },
  "orig_nbformat": 4
 },
 "nbformat": 4,
 "nbformat_minor": 2
}
