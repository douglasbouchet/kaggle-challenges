{
 "cells": [
  {
   "cell_type": "code",
   "execution_count": null,
   "metadata": {},
   "outputs": [],
   "source": [
    "!pip install pandas\n",
    "!pip install scikit-learn"
   ]
  },
  {
   "cell_type": "code",
   "execution_count": null,
   "metadata": {},
   "outputs": [],
   "source": [
    "import pandas as pd\n",
    "from sklearn.preprocessing import StandardScaler\n",
    "from IPython.display import display\n",
    "from sklearn.model_selection import train_test_split, RandomizedSearchCV\n",
    "from sklearn.ensemble import RandomForestClassifier"
   ]
  },
  {
   "cell_type": "code",
   "execution_count": null,
   "metadata": {},
   "outputs": [],
   "source": [
    "df = pd.read_csv('data/train.csv')\n",
    "df.head(3)"
   ]
  },
  {
   "cell_type": "code",
   "execution_count": null,
   "metadata": {},
   "outputs": [],
   "source": [
    "df.dtypes"
   ]
  },
  {
   "cell_type": "code",
   "execution_count": null,
   "metadata": {},
   "outputs": [],
   "source": [
    "# remove nan values\n",
    "# df_bs = df.dropna()"
   ]
  },
  {
   "cell_type": "code",
   "execution_count": null,
   "metadata": {},
   "outputs": [],
   "source": [
    "# convert each object column to a category\n",
    "category_mapping = {}\n",
    "categorised_df = df.copy(deep=False)\n",
    "for col in categorised_df.select_dtypes(include='object').columns:\n",
    "    categorised_df[col] = categorised_df[col].astype('category')\n",
    "    category_mapping[col] = {value: i for i, value in enumerate(categorised_df[col].unique())}\n",
    "    categorised_df[col] = categorised_df[col].map(category_mapping[col])\n",
    "print(category_mapping)\n",
    "categorised_df.head(2)\n"
   ]
  },
  {
   "cell_type": "code",
   "execution_count": null,
   "metadata": {},
   "outputs": [],
   "source": [
    "scaler = StandardScaler()\n",
    "X = pd.DataFrame(scaler.fit_transform(categorised_df.drop(columns=['outcome'])), columns=categorised_df.drop(columns=['outcome']).columns)\n",
    "y = categorised_df['outcome']\n",
    "display(X.head(2))\n",
    "display(y.head(2))\n"
   ]
  },
  {
   "cell_type": "code",
   "execution_count": null,
   "metadata": {},
   "outputs": [],
   "source": [
    "X_train, X_test, y_train, y_test = train_test_split(X, y, test_size=0.2, random_state=42)\n",
    "print(X_train.shape, y_train.shape, X_test.shape, y_test.shape)"
   ]
  },
  {
   "cell_type": "code",
   "execution_count": null,
   "metadata": {},
   "outputs": [],
   "source": [
    "clf = RandomForestClassifier(n_estimators=200, max_depth=50, random_state=0)\n",
    "clf.fit(X_train, y_train)\n",
    "print(f\"Train accuracy: {clf.score(X_train, y_train)}\")\n",
    "print(f\"Test accuracy: {clf.score(X_test, y_test)}\")"
   ]
  },
  {
   "cell_type": "code",
   "execution_count": null,
   "metadata": {},
   "outputs": [],
   "source": [
    "model = RandomForestClassifier()\n",
    "hp = {'max_depth': [10, 50, 100, 200, 500, 1000, 2000], 'n_estimators': [10, 50, 100, 200, 400, 600, 1000]}\n",
    "hp = {\n",
    "    'n_estimators': [10, 50, 100, 200], \n",
    "    'max_depth': [None, 5, 10, 20], \n",
    "    'min_samples_split': [2, 5, 10], \n",
    "    'min_samples_leaf': [1, 2, 4], \n",
    "    'bootstrap': [True, False],\n",
    "    # 'max_features': ['auto', 'sqrt']\n",
    "}\n",
    "random_rf = RandomizedSearchCV(estimator=model, param_distributions=hp,\n",
    "                              n_iter=100, scoring='accuracy', cv=5,\n",
    "                              refit=True, n_jobs=-1, verbose=1)\n",
    "random_rf.fit(X_train, y_train)\n",
    "print(f\"Final Test accuracy: {random_rf.score(X_test, y_test)}\")"
   ]
  },
  {
   "cell_type": "code",
   "execution_count": null,
   "metadata": {},
   "outputs": [],
   "source": [
    "# create predictions for the test set\n",
    "test_df = pd.read_csv('data/test.csv')\n",
    "for col in test_df.select_dtypes(include='object').columns:\n",
    "    test_df[col] = test_df[col].map(category_mapping[col])\n",
    "scaled_test = pd.DataFrame(scaler.transform(test_df), columns=test_df.columns)\n",
    "print(\"nan values in test set:\", scaled_test.isna().sum().sum())\n",
    "# print the nan values\n",
    "scaled_test[scaled_test.isna().any(axis=1)]\n",
    "# replace nan value with the mean of the column\n",
    "scaled_test['pain'].fillna(scaled_test['pain'].mean(), inplace=True)\n",
    "display(scaled_test.head(2))\n",
    "\n",
    "predictions = random_rf.predict(scaled_test)\n",
    "ids = test_df['id']\n",
    "reverse_mapping = {v: k for k, v in category_mapping['outcome'].items()}\n",
    "submission_df = pd.DataFrame({'id': ids, 'outcome': [reverse_mapping[prediction] for prediction in predictions]})\n",
    "submission_df.head(10)\n"
   ]
  },
  {
   "cell_type": "code",
   "execution_count": null,
   "metadata": {},
   "outputs": [],
   "source": [
    "submission_df.to_csv('data/submission_doug.csv', index=False)"
   ]
  },
  {
   "cell_type": "markdown",
   "metadata": {},
   "source": [
    "## Trying with XGBoost"
   ]
  },
  {
   "cell_type": "code",
   "execution_count": null,
   "metadata": {},
   "outputs": [],
   "source": [
    "!pip install xgboost"
   ]
  },
  {
   "cell_type": "code",
   "execution_count": 74,
   "metadata": {},
   "outputs": [
    {
     "name": "stdout",
     "output_type": "stream",
     "text": [
      "[0]\tvalidation_0-mlogloss:1.08876\n"
     ]
    },
    {
     "name": "stdout",
     "output_type": "stream",
     "text": [
      "[1]\tvalidation_0-mlogloss:1.07936\n",
      "[2]\tvalidation_0-mlogloss:1.06997\n",
      "[3]\tvalidation_0-mlogloss:1.06112\n",
      "[4]\tvalidation_0-mlogloss:1.05245\n",
      "[5]\tvalidation_0-mlogloss:1.04404\n",
      "[6]\tvalidation_0-mlogloss:1.03619\n",
      "[7]\tvalidation_0-mlogloss:1.02841\n",
      "[8]\tvalidation_0-mlogloss:1.02076\n",
      "[9]\tvalidation_0-mlogloss:1.01349\n",
      "[10]\tvalidation_0-mlogloss:1.00663\n",
      "[11]\tvalidation_0-mlogloss:1.00021\n",
      "[12]\tvalidation_0-mlogloss:0.99371\n",
      "[13]\tvalidation_0-mlogloss:0.98756\n",
      "[14]\tvalidation_0-mlogloss:0.98160\n",
      "[15]\tvalidation_0-mlogloss:0.97565\n",
      "[16]\tvalidation_0-mlogloss:0.97013\n",
      "[17]\tvalidation_0-mlogloss:0.96470\n",
      "[18]\tvalidation_0-mlogloss:0.95926\n",
      "[19]\tvalidation_0-mlogloss:0.95374\n",
      "[20]\tvalidation_0-mlogloss:0.94871\n",
      "[21]\tvalidation_0-mlogloss:0.94382\n",
      "[22]\tvalidation_0-mlogloss:0.93907\n",
      "[23]\tvalidation_0-mlogloss:0.93444\n",
      "[24]\tvalidation_0-mlogloss:0.92998\n",
      "[25]\tvalidation_0-mlogloss:0.92550\n",
      "[26]\tvalidation_0-mlogloss:0.92127\n",
      "[27]\tvalidation_0-mlogloss:0.91673\n",
      "[28]\tvalidation_0-mlogloss:0.91240\n",
      "[29]\tvalidation_0-mlogloss:0.90854\n",
      "[30]\tvalidation_0-mlogloss:0.90489\n",
      "[31]\tvalidation_0-mlogloss:0.90144\n",
      "[32]\tvalidation_0-mlogloss:0.89745\n",
      "[33]\tvalidation_0-mlogloss:0.89383\n",
      "[34]\tvalidation_0-mlogloss:0.88967\n",
      "[35]\tvalidation_0-mlogloss:0.88617\n",
      "[36]\tvalidation_0-mlogloss:0.88311\n",
      "[37]\tvalidation_0-mlogloss:0.87926\n",
      "[38]\tvalidation_0-mlogloss:0.87600\n",
      "[39]\tvalidation_0-mlogloss:0.87269\n",
      "[40]\tvalidation_0-mlogloss:0.86905\n",
      "[41]\tvalidation_0-mlogloss:0.86600\n",
      "[42]\tvalidation_0-mlogloss:0.86314\n",
      "[43]\tvalidation_0-mlogloss:0.86000\n",
      "[44]\tvalidation_0-mlogloss:0.85709\n",
      "[45]\tvalidation_0-mlogloss:0.85417\n",
      "[46]\tvalidation_0-mlogloss:0.85192\n",
      "[47]\tvalidation_0-mlogloss:0.84931\n",
      "[48]\tvalidation_0-mlogloss:0.84676\n",
      "[49]\tvalidation_0-mlogloss:0.84403\n",
      "[50]\tvalidation_0-mlogloss:0.84174\n",
      "[51]\tvalidation_0-mlogloss:0.83978\n",
      "[52]\tvalidation_0-mlogloss:0.83773\n",
      "[53]\tvalidation_0-mlogloss:0.83586\n",
      "[54]\tvalidation_0-mlogloss:0.83324\n",
      "[55]\tvalidation_0-mlogloss:0.83028\n",
      "[56]\tvalidation_0-mlogloss:0.82772\n",
      "[57]\tvalidation_0-mlogloss:0.82483\n",
      "[58]\tvalidation_0-mlogloss:0.82209\n",
      "[59]\tvalidation_0-mlogloss:0.81980\n",
      "[60]\tvalidation_0-mlogloss:0.81719\n",
      "[61]\tvalidation_0-mlogloss:0.81457\n",
      "[62]\tvalidation_0-mlogloss:0.81247\n",
      "[63]\tvalidation_0-mlogloss:0.81051\n",
      "[64]\tvalidation_0-mlogloss:0.80826\n"
     ]
    },
    {
     "name": "stderr",
     "output_type": "stream",
     "text": [
      "/Users/douglas/miniconda3/envs/kaggle/lib/python3.11/site-packages/xgboost/data.py:335: FutureWarning: is_sparse is deprecated and will be removed in a future version. Check `isinstance(dtype, pd.SparseDtype)` instead.\n",
      "  if is_sparse(dtype):\n",
      "/Users/douglas/miniconda3/envs/kaggle/lib/python3.11/site-packages/xgboost/data.py:338: FutureWarning: is_categorical_dtype is deprecated and will be removed in a future version. Use isinstance(dtype, CategoricalDtype) instead\n",
      "  is_categorical_dtype(dtype) or is_pa_ext_categorical_dtype(dtype)\n",
      "/Users/douglas/miniconda3/envs/kaggle/lib/python3.11/site-packages/xgboost/data.py:384: FutureWarning: is_categorical_dtype is deprecated and will be removed in a future version. Use isinstance(dtype, CategoricalDtype) instead\n",
      "  if is_categorical_dtype(dtype):\n",
      "/Users/douglas/miniconda3/envs/kaggle/lib/python3.11/site-packages/xgboost/data.py:359: FutureWarning: is_categorical_dtype is deprecated and will be removed in a future version. Use isinstance(dtype, CategoricalDtype) instead\n",
      "  return is_int or is_bool or is_float or is_categorical_dtype(dtype)\n",
      "/Users/douglas/miniconda3/envs/kaggle/lib/python3.11/site-packages/xgboost/data.py:520: FutureWarning: is_sparse is deprecated and will be removed in a future version. Check `isinstance(dtype, pd.SparseDtype)` instead.\n",
      "  if is_sparse(data):\n",
      "/Users/douglas/miniconda3/envs/kaggle/lib/python3.11/site-packages/xgboost/data.py:520: FutureWarning: is_sparse is deprecated and will be removed in a future version. Check `isinstance(dtype, pd.SparseDtype)` instead.\n",
      "  if is_sparse(data):\n",
      "/Users/douglas/miniconda3/envs/kaggle/lib/python3.11/site-packages/xgboost/data.py:520: FutureWarning: is_sparse is deprecated and will be removed in a future version. Check `isinstance(dtype, pd.SparseDtype)` instead.\n",
      "  if is_sparse(data):\n",
      "/Users/douglas/miniconda3/envs/kaggle/lib/python3.11/site-packages/xgboost/data.py:520: FutureWarning: is_sparse is deprecated and will be removed in a future version. Check `isinstance(dtype, pd.SparseDtype)` instead.\n",
      "  if is_sparse(data):\n",
      "/Users/douglas/miniconda3/envs/kaggle/lib/python3.11/site-packages/xgboost/data.py:335: FutureWarning: is_sparse is deprecated and will be removed in a future version. Check `isinstance(dtype, pd.SparseDtype)` instead.\n",
      "  if is_sparse(dtype):\n",
      "/Users/douglas/miniconda3/envs/kaggle/lib/python3.11/site-packages/xgboost/data.py:338: FutureWarning: is_categorical_dtype is deprecated and will be removed in a future version. Use isinstance(dtype, CategoricalDtype) instead\n",
      "  is_categorical_dtype(dtype) or is_pa_ext_categorical_dtype(dtype)\n",
      "/Users/douglas/miniconda3/envs/kaggle/lib/python3.11/site-packages/xgboost/data.py:384: FutureWarning: is_categorical_dtype is deprecated and will be removed in a future version. Use isinstance(dtype, CategoricalDtype) instead\n",
      "  if is_categorical_dtype(dtype):\n",
      "/Users/douglas/miniconda3/envs/kaggle/lib/python3.11/site-packages/xgboost/data.py:359: FutureWarning: is_categorical_dtype is deprecated and will be removed in a future version. Use isinstance(dtype, CategoricalDtype) instead\n",
      "  return is_int or is_bool or is_float or is_categorical_dtype(dtype)\n",
      "/Users/douglas/miniconda3/envs/kaggle/lib/python3.11/site-packages/xgboost/data.py:520: FutureWarning: is_sparse is deprecated and will be removed in a future version. Check `isinstance(dtype, pd.SparseDtype)` instead.\n",
      "  if is_sparse(data):\n",
      "/Users/douglas/miniconda3/envs/kaggle/lib/python3.11/site-packages/xgboost/data.py:520: FutureWarning: is_sparse is deprecated and will be removed in a future version. Check `isinstance(dtype, pd.SparseDtype)` instead.\n",
      "  if is_sparse(data):\n",
      "/Users/douglas/miniconda3/envs/kaggle/lib/python3.11/site-packages/xgboost/data.py:520: FutureWarning: is_sparse is deprecated and will be removed in a future version. Check `isinstance(dtype, pd.SparseDtype)` instead.\n",
      "  if is_sparse(data):\n"
     ]
    },
    {
     "name": "stdout",
     "output_type": "stream",
     "text": [
      "[65]\tvalidation_0-mlogloss:0.80688\n",
      "[66]\tvalidation_0-mlogloss:0.80537\n",
      "[67]\tvalidation_0-mlogloss:0.80376\n",
      "[68]\tvalidation_0-mlogloss:0.80180\n",
      "[69]\tvalidation_0-mlogloss:0.80015\n",
      "[70]\tvalidation_0-mlogloss:0.79850\n",
      "[71]\tvalidation_0-mlogloss:0.79718\n",
      "[72]\tvalidation_0-mlogloss:0.79589\n",
      "[73]\tvalidation_0-mlogloss:0.79459\n",
      "[74]\tvalidation_0-mlogloss:0.79332\n",
      "[75]\tvalidation_0-mlogloss:0.79205\n",
      "[76]\tvalidation_0-mlogloss:0.79116\n",
      "[77]\tvalidation_0-mlogloss:0.78987\n",
      "[78]\tvalidation_0-mlogloss:0.78857\n",
      "[79]\tvalidation_0-mlogloss:0.78705\n",
      "[80]\tvalidation_0-mlogloss:0.78553\n",
      "[81]\tvalidation_0-mlogloss:0.78392\n",
      "[82]\tvalidation_0-mlogloss:0.78274\n",
      "[83]\tvalidation_0-mlogloss:0.78144\n",
      "[84]\tvalidation_0-mlogloss:0.78036\n",
      "[85]\tvalidation_0-mlogloss:0.77931\n",
      "[86]\tvalidation_0-mlogloss:0.77807\n",
      "[87]\tvalidation_0-mlogloss:0.77699\n",
      "[88]\tvalidation_0-mlogloss:0.77611\n",
      "[89]\tvalidation_0-mlogloss:0.77519\n",
      "[90]\tvalidation_0-mlogloss:0.77429\n",
      "[91]\tvalidation_0-mlogloss:0.77326\n",
      "[92]\tvalidation_0-mlogloss:0.77248\n",
      "[93]\tvalidation_0-mlogloss:0.77203\n",
      "[94]\tvalidation_0-mlogloss:0.77148\n",
      "[95]\tvalidation_0-mlogloss:0.77057\n",
      "[96]\tvalidation_0-mlogloss:0.76974\n",
      "[97]\tvalidation_0-mlogloss:0.76909\n",
      "[98]\tvalidation_0-mlogloss:0.76847\n",
      "[99]\tvalidation_0-mlogloss:0.76743\n",
      "[100]\tvalidation_0-mlogloss:0.76683\n",
      "[101]\tvalidation_0-mlogloss:0.76602\n",
      "[102]\tvalidation_0-mlogloss:0.76522\n",
      "[103]\tvalidation_0-mlogloss:0.76465\n",
      "[104]\tvalidation_0-mlogloss:0.76456\n",
      "[105]\tvalidation_0-mlogloss:0.76421\n",
      "[106]\tvalidation_0-mlogloss:0.76365\n",
      "[107]\tvalidation_0-mlogloss:0.76340\n",
      "[108]\tvalidation_0-mlogloss:0.76277\n",
      "[109]\tvalidation_0-mlogloss:0.76263\n",
      "[110]\tvalidation_0-mlogloss:0.76226\n",
      "[111]\tvalidation_0-mlogloss:0.76217\n",
      "[112]\tvalidation_0-mlogloss:0.76183\n",
      "[113]\tvalidation_0-mlogloss:0.76161\n",
      "[114]\tvalidation_0-mlogloss:0.76145\n",
      "[115]\tvalidation_0-mlogloss:0.76045\n",
      "[116]\tvalidation_0-mlogloss:0.76026\n",
      "[117]\tvalidation_0-mlogloss:0.76004\n",
      "[118]\tvalidation_0-mlogloss:0.76023\n",
      "[119]\tvalidation_0-mlogloss:0.76030\n",
      "[120]\tvalidation_0-mlogloss:0.75977\n",
      "[121]\tvalidation_0-mlogloss:0.75996\n",
      "[122]\tvalidation_0-mlogloss:0.75957\n",
      "[123]\tvalidation_0-mlogloss:0.75913\n",
      "[124]\tvalidation_0-mlogloss:0.75858\n",
      "[125]\tvalidation_0-mlogloss:0.75819\n",
      "[126]\tvalidation_0-mlogloss:0.75741\n",
      "[127]\tvalidation_0-mlogloss:0.75722\n",
      "[128]\tvalidation_0-mlogloss:0.75682\n",
      "[129]\tvalidation_0-mlogloss:0.75650\n",
      "[130]\tvalidation_0-mlogloss:0.75615\n",
      "[131]\tvalidation_0-mlogloss:0.75625\n",
      "[132]\tvalidation_0-mlogloss:0.75589\n",
      "[133]\tvalidation_0-mlogloss:0.75555\n",
      "[134]\tvalidation_0-mlogloss:0.75544\n",
      "[135]\tvalidation_0-mlogloss:0.75536\n",
      "[136]\tvalidation_0-mlogloss:0.75510\n",
      "[137]\tvalidation_0-mlogloss:0.75474\n",
      "[138]\tvalidation_0-mlogloss:0.75455\n",
      "[139]\tvalidation_0-mlogloss:0.75422\n",
      "[140]\tvalidation_0-mlogloss:0.75400\n",
      "[141]\tvalidation_0-mlogloss:0.75378\n",
      "[142]\tvalidation_0-mlogloss:0.75356\n",
      "[143]\tvalidation_0-mlogloss:0.75330\n",
      "[144]\tvalidation_0-mlogloss:0.75299\n",
      "[145]\tvalidation_0-mlogloss:0.75276\n",
      "[146]\tvalidation_0-mlogloss:0.75257\n",
      "[147]\tvalidation_0-mlogloss:0.75226\n",
      "[148]\tvalidation_0-mlogloss:0.75180\n",
      "[149]\tvalidation_0-mlogloss:0.75167\n",
      "[150]\tvalidation_0-mlogloss:0.75151\n",
      "[151]\tvalidation_0-mlogloss:0.75108\n",
      "[152]\tvalidation_0-mlogloss:0.75112\n",
      "[153]\tvalidation_0-mlogloss:0.75073\n",
      "[154]\tvalidation_0-mlogloss:0.75058\n",
      "[155]\tvalidation_0-mlogloss:0.75037\n",
      "[156]\tvalidation_0-mlogloss:0.75012\n",
      "[157]\tvalidation_0-mlogloss:0.74997\n",
      "[158]\tvalidation_0-mlogloss:0.74975\n",
      "[159]\tvalidation_0-mlogloss:0.74971\n",
      "[160]\tvalidation_0-mlogloss:0.74963\n",
      "[161]\tvalidation_0-mlogloss:0.74916\n",
      "[162]\tvalidation_0-mlogloss:0.74947\n",
      "[163]\tvalidation_0-mlogloss:0.74924\n",
      "[164]\tvalidation_0-mlogloss:0.74919\n",
      "[165]\tvalidation_0-mlogloss:0.74920\n",
      "[166]\tvalidation_0-mlogloss:0.74906\n",
      "[167]\tvalidation_0-mlogloss:0.74899\n",
      "[168]\tvalidation_0-mlogloss:0.74882\n",
      "[169]\tvalidation_0-mlogloss:0.74863\n",
      "[170]\tvalidation_0-mlogloss:0.74863\n",
      "[171]\tvalidation_0-mlogloss:0.74823\n",
      "[172]\tvalidation_0-mlogloss:0.74832\n",
      "[173]\tvalidation_0-mlogloss:0.74799\n",
      "[174]\tvalidation_0-mlogloss:0.74792\n",
      "[175]\tvalidation_0-mlogloss:0.74776\n",
      "[176]\tvalidation_0-mlogloss:0.74781\n",
      "[177]\tvalidation_0-mlogloss:0.74760\n",
      "[178]\tvalidation_0-mlogloss:0.74773\n",
      "[179]\tvalidation_0-mlogloss:0.74772\n",
      "[180]\tvalidation_0-mlogloss:0.74777\n",
      "[181]\tvalidation_0-mlogloss:0.74781\n",
      "[182]\tvalidation_0-mlogloss:0.74793\n"
     ]
    },
    {
     "data": {
      "text/html": [
       "<style>#sk-container-id-5 {color: black;}#sk-container-id-5 pre{padding: 0;}#sk-container-id-5 div.sk-toggleable {background-color: white;}#sk-container-id-5 label.sk-toggleable__label {cursor: pointer;display: block;width: 100%;margin-bottom: 0;padding: 0.3em;box-sizing: border-box;text-align: center;}#sk-container-id-5 label.sk-toggleable__label-arrow:before {content: \"▸\";float: left;margin-right: 0.25em;color: #696969;}#sk-container-id-5 label.sk-toggleable__label-arrow:hover:before {color: black;}#sk-container-id-5 div.sk-estimator:hover label.sk-toggleable__label-arrow:before {color: black;}#sk-container-id-5 div.sk-toggleable__content {max-height: 0;max-width: 0;overflow: hidden;text-align: left;background-color: #f0f8ff;}#sk-container-id-5 div.sk-toggleable__content pre {margin: 0.2em;color: black;border-radius: 0.25em;background-color: #f0f8ff;}#sk-container-id-5 input.sk-toggleable__control:checked~div.sk-toggleable__content {max-height: 200px;max-width: 100%;overflow: auto;}#sk-container-id-5 input.sk-toggleable__control:checked~label.sk-toggleable__label-arrow:before {content: \"▾\";}#sk-container-id-5 div.sk-estimator input.sk-toggleable__control:checked~label.sk-toggleable__label {background-color: #d4ebff;}#sk-container-id-5 div.sk-label input.sk-toggleable__control:checked~label.sk-toggleable__label {background-color: #d4ebff;}#sk-container-id-5 input.sk-hidden--visually {border: 0;clip: rect(1px 1px 1px 1px);clip: rect(1px, 1px, 1px, 1px);height: 1px;margin: -1px;overflow: hidden;padding: 0;position: absolute;width: 1px;}#sk-container-id-5 div.sk-estimator {font-family: monospace;background-color: #f0f8ff;border: 1px dotted black;border-radius: 0.25em;box-sizing: border-box;margin-bottom: 0.5em;}#sk-container-id-5 div.sk-estimator:hover {background-color: #d4ebff;}#sk-container-id-5 div.sk-parallel-item::after {content: \"\";width: 100%;border-bottom: 1px solid gray;flex-grow: 1;}#sk-container-id-5 div.sk-label:hover label.sk-toggleable__label {background-color: #d4ebff;}#sk-container-id-5 div.sk-serial::before {content: \"\";position: absolute;border-left: 1px solid gray;box-sizing: border-box;top: 0;bottom: 0;left: 50%;z-index: 0;}#sk-container-id-5 div.sk-serial {display: flex;flex-direction: column;align-items: center;background-color: white;padding-right: 0.2em;padding-left: 0.2em;position: relative;}#sk-container-id-5 div.sk-item {position: relative;z-index: 1;}#sk-container-id-5 div.sk-parallel {display: flex;align-items: stretch;justify-content: center;background-color: white;position: relative;}#sk-container-id-5 div.sk-item::before, #sk-container-id-5 div.sk-parallel-item::before {content: \"\";position: absolute;border-left: 1px solid gray;box-sizing: border-box;top: 0;bottom: 0;left: 50%;z-index: -1;}#sk-container-id-5 div.sk-parallel-item {display: flex;flex-direction: column;z-index: 1;position: relative;background-color: white;}#sk-container-id-5 div.sk-parallel-item:first-child::after {align-self: flex-end;width: 50%;}#sk-container-id-5 div.sk-parallel-item:last-child::after {align-self: flex-start;width: 50%;}#sk-container-id-5 div.sk-parallel-item:only-child::after {width: 0;}#sk-container-id-5 div.sk-dashed-wrapped {border: 1px dashed gray;margin: 0 0.4em 0.5em 0.4em;box-sizing: border-box;padding-bottom: 0.4em;background-color: white;}#sk-container-id-5 div.sk-label label {font-family: monospace;font-weight: bold;display: inline-block;line-height: 1.2em;}#sk-container-id-5 div.sk-label-container {text-align: center;}#sk-container-id-5 div.sk-container {/* jupyter's `normalize.less` sets `[hidden] { display: none; }` but bootstrap.min.css set `[hidden] { display: none !important; }` so we also need the `!important` here to be able to override the default hidden behavior on the sphinx rendered scikit-learn.org. See: https://github.com/scikit-learn/scikit-learn/issues/21755 */display: inline-block !important;position: relative;}#sk-container-id-5 div.sk-text-repr-fallback {display: none;}</style><div id=\"sk-container-id-5\" class=\"sk-top-container\"><div class=\"sk-text-repr-fallback\"><pre>XGBClassifier(base_score=None, booster=None, callbacks=None,\n",
       "              colsample_bylevel=None, colsample_bynode=None,\n",
       "              colsample_bytree=None, device=None, early_stopping_rounds=5,\n",
       "              enable_categorical=False, eval_metric=None, feature_types=None,\n",
       "              gamma=None, grow_policy=None, importance_type=None,\n",
       "              interaction_constraints=None, learning_rate=0.02, max_bin=None,\n",
       "              max_cat_threshold=None, max_cat_to_onehot=None,\n",
       "              max_delta_step=None, max_depth=None, max_leaves=None,\n",
       "              min_child_weight=None, missing=nan, monotone_constraints=None,\n",
       "              multi_strategy=None, n_estimators=1000, n_jobs=None,\n",
       "              num_parallel_tree=None, objective=&#x27;multi:softprob&#x27;, ...)</pre><b>In a Jupyter environment, please rerun this cell to show the HTML representation or trust the notebook. <br />On GitHub, the HTML representation is unable to render, please try loading this page with nbviewer.org.</b></div><div class=\"sk-container\" hidden><div class=\"sk-item\"><div class=\"sk-estimator sk-toggleable\"><input class=\"sk-toggleable__control sk-hidden--visually\" id=\"sk-estimator-id-5\" type=\"checkbox\" checked><label for=\"sk-estimator-id-5\" class=\"sk-toggleable__label sk-toggleable__label-arrow\">XGBClassifier</label><div class=\"sk-toggleable__content\"><pre>XGBClassifier(base_score=None, booster=None, callbacks=None,\n",
       "              colsample_bylevel=None, colsample_bynode=None,\n",
       "              colsample_bytree=None, device=None, early_stopping_rounds=5,\n",
       "              enable_categorical=False, eval_metric=None, feature_types=None,\n",
       "              gamma=None, grow_policy=None, importance_type=None,\n",
       "              interaction_constraints=None, learning_rate=0.02, max_bin=None,\n",
       "              max_cat_threshold=None, max_cat_to_onehot=None,\n",
       "              max_delta_step=None, max_depth=None, max_leaves=None,\n",
       "              min_child_weight=None, missing=nan, monotone_constraints=None,\n",
       "              multi_strategy=None, n_estimators=1000, n_jobs=None,\n",
       "              num_parallel_tree=None, objective=&#x27;multi:softprob&#x27;, ...)</pre></div></div></div></div></div>"
      ],
      "text/plain": [
       "XGBClassifier(base_score=None, booster=None, callbacks=None,\n",
       "              colsample_bylevel=None, colsample_bynode=None,\n",
       "              colsample_bytree=None, device=None, early_stopping_rounds=5,\n",
       "              enable_categorical=False, eval_metric=None, feature_types=None,\n",
       "              gamma=None, grow_policy=None, importance_type=None,\n",
       "              interaction_constraints=None, learning_rate=0.02, max_bin=None,\n",
       "              max_cat_threshold=None, max_cat_to_onehot=None,\n",
       "              max_delta_step=None, max_depth=None, max_leaves=None,\n",
       "              min_child_weight=None, missing=nan, monotone_constraints=None,\n",
       "              multi_strategy=None, n_estimators=1000, n_jobs=None,\n",
       "              num_parallel_tree=None, objective='multi:softprob', ...)"
      ]
     },
     "execution_count": 74,
     "metadata": {},
     "output_type": "execute_result"
    }
   ],
   "source": [
    "from xgboost import XGBRegressor, XGBClassifier\n",
    "# Define the model\n",
    "# model = XGBRegressor(n_estimators=1000, learning_rate=2e-2, early_stopping_rounds=5, random_state=0)\n",
    "model = XGBClassifier(n_estimators=1000, learning_rate=2e-2, early_stopping_rounds=5, random_state=0)\n",
    "\n",
    "# Fit the model\n",
    "model.fit(X_train, y_train, \n",
    "             eval_set=[(X_test, y_test)], verbose=1)"
   ]
  },
  {
   "cell_type": "code",
   "execution_count": 78,
   "metadata": {},
   "outputs": [
    {
     "name": "stderr",
     "output_type": "stream",
     "text": [
      "/Users/douglas/miniconda3/envs/kaggle/lib/python3.11/site-packages/xgboost/data.py:335: FutureWarning: is_sparse is deprecated and will be removed in a future version. Check `isinstance(dtype, pd.SparseDtype)` instead.\n",
      "  if is_sparse(dtype):\n",
      "/Users/douglas/miniconda3/envs/kaggle/lib/python3.11/site-packages/xgboost/data.py:338: FutureWarning: is_categorical_dtype is deprecated and will be removed in a future version. Use isinstance(dtype, CategoricalDtype) instead\n",
      "  is_categorical_dtype(dtype) or is_pa_ext_categorical_dtype(dtype)\n",
      "/Users/douglas/miniconda3/envs/kaggle/lib/python3.11/site-packages/xgboost/data.py:384: FutureWarning: is_categorical_dtype is deprecated and will be removed in a future version. Use isinstance(dtype, CategoricalDtype) instead\n",
      "  if is_categorical_dtype(dtype):\n",
      "/Users/douglas/miniconda3/envs/kaggle/lib/python3.11/site-packages/xgboost/data.py:359: FutureWarning: is_categorical_dtype is deprecated and will be removed in a future version. Use isinstance(dtype, CategoricalDtype) instead\n",
      "  return is_int or is_bool or is_float or is_categorical_dtype(dtype)\n"
     ]
    },
    {
     "data": {
      "text/html": [
       "<div>\n",
       "<style scoped>\n",
       "    .dataframe tbody tr th:only-of-type {\n",
       "        vertical-align: middle;\n",
       "    }\n",
       "\n",
       "    .dataframe tbody tr th {\n",
       "        vertical-align: top;\n",
       "    }\n",
       "\n",
       "    .dataframe thead th {\n",
       "        text-align: right;\n",
       "    }\n",
       "</style>\n",
       "<table border=\"1\" class=\"dataframe\">\n",
       "  <thead>\n",
       "    <tr style=\"text-align: right;\">\n",
       "      <th></th>\n",
       "      <th>id</th>\n",
       "      <th>outcome</th>\n",
       "    </tr>\n",
       "  </thead>\n",
       "  <tbody>\n",
       "    <tr>\n",
       "      <th>0</th>\n",
       "      <td>1235</td>\n",
       "      <td>lived</td>\n",
       "    </tr>\n",
       "    <tr>\n",
       "      <th>1</th>\n",
       "      <td>1236</td>\n",
       "      <td>died</td>\n",
       "    </tr>\n",
       "    <tr>\n",
       "      <th>2</th>\n",
       "      <td>1237</td>\n",
       "      <td>lived</td>\n",
       "    </tr>\n",
       "    <tr>\n",
       "      <th>3</th>\n",
       "      <td>1238</td>\n",
       "      <td>euthanized</td>\n",
       "    </tr>\n",
       "    <tr>\n",
       "      <th>4</th>\n",
       "      <td>1239</td>\n",
       "      <td>lived</td>\n",
       "    </tr>\n",
       "    <tr>\n",
       "      <th>5</th>\n",
       "      <td>1240</td>\n",
       "      <td>died</td>\n",
       "    </tr>\n",
       "    <tr>\n",
       "      <th>6</th>\n",
       "      <td>1241</td>\n",
       "      <td>died</td>\n",
       "    </tr>\n",
       "    <tr>\n",
       "      <th>7</th>\n",
       "      <td>1242</td>\n",
       "      <td>died</td>\n",
       "    </tr>\n",
       "    <tr>\n",
       "      <th>8</th>\n",
       "      <td>1243</td>\n",
       "      <td>lived</td>\n",
       "    </tr>\n",
       "    <tr>\n",
       "      <th>9</th>\n",
       "      <td>1244</td>\n",
       "      <td>lived</td>\n",
       "    </tr>\n",
       "  </tbody>\n",
       "</table>\n",
       "</div>"
      ],
      "text/plain": [
       "     id     outcome\n",
       "0  1235       lived\n",
       "1  1236        died\n",
       "2  1237       lived\n",
       "3  1238  euthanized\n",
       "4  1239       lived\n",
       "5  1240        died\n",
       "6  1241        died\n",
       "7  1242        died\n",
       "8  1243       lived\n",
       "9  1244       lived"
      ]
     },
     "metadata": {},
     "output_type": "display_data"
    }
   ],
   "source": [
    "predictions = model.predict(scaled_test)\n",
    "ids = test_df['id']\n",
    "reverse_mapping = {v: k for k, v in category_mapping['outcome'].items()}\n",
    "submission_df = pd.DataFrame({'id': ids, 'outcome': [reverse_mapping[prediction] for prediction in predictions]})\n",
    "display(submission_df.head(10))\n",
    "submission_df.to_csv('data/submission_xgb_classifier.csv', index=False)"
   ]
  },
  {
   "cell_type": "code",
   "execution_count": 158,
   "metadata": {},
   "outputs": [],
   "source": [
    "from sklearn.impute import SimpleImputer\n",
    "from sklearn.preprocessing import OrdinalEncoder\n",
    "from xgboost import XGBClassifier"
   ]
  },
  {
   "cell_type": "code",
   "execution_count": 143,
   "metadata": {},
   "outputs": [],
   "source": [
    "X = pd.read_csv('data/train.csv')\n",
    "y = X['outcome']\n",
    "X.drop(columns=['outcome'], inplace=True)\n",
    "X_test = pd.read_csv('data/test.csv')"
   ]
  },
  {
   "cell_type": "code",
   "execution_count": 183,
   "metadata": {},
   "outputs": [
    {
     "data": {
      "text/plain": [
       "id                         int64\n",
       "surgery                   object\n",
       "age                       object\n",
       "hospital_number            int64\n",
       "rectal_temp              float64\n",
       "pulse                    float64\n",
       "respiratory_rate         float64\n",
       "temp_of_extremities       object\n",
       "peripheral_pulse          object\n",
       "mucous_membrane           object\n",
       "capillary_refill_time     object\n",
       "pain                      object\n",
       "peristalsis               object\n",
       "abdominal_distention      object\n",
       "nasogastric_tube          object\n",
       "nasogastric_reflux        object\n",
       "nasogastric_reflux_ph    float64\n",
       "rectal_exam_feces         object\n",
       "abdomen                   object\n",
       "packed_cell_volume       float64\n",
       "total_protein            float64\n",
       "abdomo_appearance         object\n",
       "abdomo_protein           float64\n",
       "surgical_lesion           object\n",
       "lesion_1                   int64\n",
       "lesion_2                   int64\n",
       "lesion_3                   int64\n",
       "cp_data                   object\n",
       "dtype: object"
      ]
     },
     "execution_count": 183,
     "metadata": {},
     "output_type": "execute_result"
    }
   ],
   "source": [
    "X.dtypes"
   ]
  },
  {
   "cell_type": "markdown",
   "metadata": {},
   "source": [
    "### Category values check\n",
    "Before encoding the categories with numbers, we check if some values are in the test data and not in the test data"
   ]
  },
  {
   "cell_type": "code",
   "execution_count": 145,
   "metadata": {},
   "outputs": [
    {
     "name": "stdout",
     "output_type": "stream",
     "text": [
      "{'slight', 'mild_pain', nan, 'depressed', 'alert', 'extreme_pain', 'severe_pain'}\n",
      "different values: {'moderate'}\n",
      "problematic_cols: ['pain']\n"
     ]
    }
   ],
   "source": [
    "categories_cols = X.select_dtypes(include='object').columns.tolist()\n",
    "\n",
    "train_col_to_values = X[categories_cols].apply(lambda x: x.unique())\n",
    "test_col_to_values = X_test[categories_cols].apply(lambda x: x.unique())\n",
    "\n",
    "problematic_cols = []\n",
    "for col in categories_cols:\n",
    "    if not set(test_col_to_values[col]).issubset(set(train_col_to_values[col])):\n",
    "        problematic_cols.append(col)\n",
    "        print(set(train_col_to_values[col]))\n",
    "        print(\"different values:\", set(test_col_to_values[col]) - set(train_col_to_values[col]))\n",
    "print(\"problematic_cols:\", problematic_cols)\n"
   ]
  },
  {
   "cell_type": "code",
   "execution_count": 146,
   "metadata": {},
   "outputs": [],
   "source": [
    "# print(X_test[X_test['pain'] == 'moderate'].id.count())\n",
    "# we see only one value that is problematic, so we replace it with the closest value\n",
    "X_test['pain'] = X_test['pain'].replace('moderate', 'slight')\n",
    "assert X_test[X_test['pain'] == 'moderate'].id.count() == 0\n"
   ]
  },
  {
   "cell_type": "markdown",
   "metadata": {},
   "source": [
    "### Dropping some columns\n",
    "In this part we do some analysis over the columns influence on the outcome to see if we will drop some of them"
   ]
  },
  {
   "cell_type": "code",
   "execution_count": 157,
   "metadata": {},
   "outputs": [],
   "source": [
    "# TODO"
   ]
  },
  {
   "cell_type": "markdown",
   "metadata": {},
   "source": [
    "### Missing value handling\n",
    "\n",
    "We deplace the missing value depending on the column."
   ]
  },
  {
   "cell_type": "code",
   "execution_count": 185,
   "metadata": {},
   "outputs": [
    {
     "name": "stdout",
     "output_type": "stream",
     "text": [
      "missing numerical values: Series([], dtype: int64)\n",
      "missing categorical values: temp_of_extremities       39\n",
      "peripheral_pulse          60\n",
      "mucous_membrane           21\n",
      "capillary_refill_time      6\n",
      "pain                      44\n",
      "peristalsis               20\n",
      "abdominal_distention      23\n",
      "nasogastric_tube          80\n",
      "nasogastric_reflux        21\n",
      "rectal_exam_feces        190\n",
      "abdomen                  213\n",
      "abdomo_appearance         48\n",
      "dtype: int64\n"
     ]
    }
   ],
   "source": [
    "# compute for each column the number of nan values\n",
    "#print(X.isna().sum())\n",
    "num_cols = X.select_dtypes(include='number').columns.tolist()\n",
    "cat_cols = X.select_dtypes(include='object').columns.tolist()\n",
    "# cat_cols.remove('outcome')\n",
    "nan_num = X[num_cols].isna().sum()\n",
    "nan_col = X[cat_cols].isna().sum()\n",
    "print(\"missing numerical values:\", nan_num[nan_num > 0])\n",
    "print(\"missing categorical values:\", nan_col[nan_col > 0])\n",
    "# as we don't have too much missing values (less 20% of column value, we can replace them with the most frequent value)\n",
    "\n",
    "cat_inputer = SimpleImputer(strategy='most_frequent')\n",
    "imputed_X = pd.DataFrame(cat_inputer.fit_transform(X))\n",
    "imputed_X_test = pd.DataFrame(cat_inputer.transform(X_test))\n",
    "\n",
    "imputed_X.columns = X.columns\n",
    "imputed_X_test.columns = X_test.columns\n",
    "\n",
    "# assert we don't have any nan values\n",
    "assert imputed_X.isna().sum().sum() == 0\n",
    "\n",
    "# cinvert dtypes to original ones\n",
    "imputed_X[cat_cols] = imputed_X[cat_cols].astype('category')\n",
    "imputed_X_test[cat_cols] = imputed_X_test[cat_cols].astype('category')\n",
    "imputed_X[num_cols] = imputed_X[num_cols].astype('float64')\n",
    "imputed_X_test[num_cols] = imputed_X_test[num_cols].astype('float64')"
   ]
  },
  {
   "cell_type": "markdown",
   "metadata": {},
   "source": [
    "### Encoding categories"
   ]
  },
  {
   "cell_type": "code",
   "execution_count": 186,
   "metadata": {},
   "outputs": [
    {
     "name": "stdout",
     "output_type": "stream",
     "text": [
      "encoded_y: [0 1 2 2 2]\n"
     ]
    }
   ],
   "source": [
    "category_enc = OrdinalEncoder()\n",
    "\n",
    "encoded_X = imputed_X.copy(deep=False)\n",
    "encoded_X_test = imputed_X_test.copy(deep=False)\n",
    "\n",
    "# Apply ordinal encoder \n",
    "encoded_X[cat_cols] = category_enc.fit_transform(encoded_X[cat_cols])\n",
    "encoded_X_test[cat_cols] = category_enc.transform(encoded_X_test[cat_cols])\n",
    "\n",
    "# encode the target variable\n",
    "outcome_enc = OrdinalEncoder()\n",
    "encoded_y = outcome_enc.fit_transform(y.values.reshape(-1, 1)).flatten()\n",
    "encoded_y = encoded_y.astype(int)\n",
    "print(\"encoded_y:\", encoded_y[:5])"
   ]
  },
  {
   "cell_type": "markdown",
   "metadata": {},
   "source": [
    "### Building the Ml model\n",
    "\n",
    "We will use an XGBClassifier in order to predict the weatlness of the horses"
   ]
  },
  {
   "cell_type": "code",
   "execution_count": 213,
   "metadata": {},
   "outputs": [
    {
     "name": "stderr",
     "output_type": "stream",
     "text": [
      "/Users/douglas/miniconda3/envs/kaggle/lib/python3.11/site-packages/xgboost/data.py:335: FutureWarning: is_sparse is deprecated and will be removed in a future version. Check `isinstance(dtype, pd.SparseDtype)` instead.\n",
      "  if is_sparse(dtype):\n",
      "/Users/douglas/miniconda3/envs/kaggle/lib/python3.11/site-packages/xgboost/data.py:338: FutureWarning: is_categorical_dtype is deprecated and will be removed in a future version. Use isinstance(dtype, CategoricalDtype) instead\n",
      "  is_categorical_dtype(dtype) or is_pa_ext_categorical_dtype(dtype)\n",
      "/Users/douglas/miniconda3/envs/kaggle/lib/python3.11/site-packages/xgboost/data.py:384: FutureWarning: is_categorical_dtype is deprecated and will be removed in a future version. Use isinstance(dtype, CategoricalDtype) instead\n",
      "  if is_categorical_dtype(dtype):\n",
      "/Users/douglas/miniconda3/envs/kaggle/lib/python3.11/site-packages/xgboost/data.py:359: FutureWarning: is_categorical_dtype is deprecated and will be removed in a future version. Use isinstance(dtype, CategoricalDtype) instead\n",
      "  return is_int or is_bool or is_float or is_categorical_dtype(dtype)\n",
      "/Users/douglas/miniconda3/envs/kaggle/lib/python3.11/site-packages/xgboost/data.py:335: FutureWarning: is_sparse is deprecated and will be removed in a future version. Check `isinstance(dtype, pd.SparseDtype)` instead.\n",
      "  if is_sparse(dtype):\n",
      "/Users/douglas/miniconda3/envs/kaggle/lib/python3.11/site-packages/xgboost/data.py:338: FutureWarning: is_categorical_dtype is deprecated and will be removed in a future version. Use isinstance(dtype, CategoricalDtype) instead\n",
      "  is_categorical_dtype(dtype) or is_pa_ext_categorical_dtype(dtype)\n",
      "/Users/douglas/miniconda3/envs/kaggle/lib/python3.11/site-packages/xgboost/data.py:384: FutureWarning: is_categorical_dtype is deprecated and will be removed in a future version. Use isinstance(dtype, CategoricalDtype) instead\n",
      "  if is_categorical_dtype(dtype):\n",
      "/Users/douglas/miniconda3/envs/kaggle/lib/python3.11/site-packages/xgboost/data.py:359: FutureWarning: is_categorical_dtype is deprecated and will be removed in a future version. Use isinstance(dtype, CategoricalDtype) instead\n",
      "  return is_int or is_bool or is_float or is_categorical_dtype(dtype)\n",
      "/Users/douglas/miniconda3/envs/kaggle/lib/python3.11/site-packages/xgboost/data.py:335: FutureWarning: is_sparse is deprecated and will be removed in a future version. Check `isinstance(dtype, pd.SparseDtype)` instead.\n",
      "  if is_sparse(dtype):\n",
      "/Users/douglas/miniconda3/envs/kaggle/lib/python3.11/site-packages/xgboost/data.py:338: FutureWarning: is_categorical_dtype is deprecated and will be removed in a future version. Use isinstance(dtype, CategoricalDtype) instead\n",
      "  is_categorical_dtype(dtype) or is_pa_ext_categorical_dtype(dtype)\n",
      "/Users/douglas/miniconda3/envs/kaggle/lib/python3.11/site-packages/xgboost/data.py:384: FutureWarning: is_categorical_dtype is deprecated and will be removed in a future version. Use isinstance(dtype, CategoricalDtype) instead\n",
      "  if is_categorical_dtype(dtype):\n",
      "/Users/douglas/miniconda3/envs/kaggle/lib/python3.11/site-packages/xgboost/data.py:359: FutureWarning: is_categorical_dtype is deprecated and will be removed in a future version. Use isinstance(dtype, CategoricalDtype) instead\n",
      "  return is_int or is_bool or is_float or is_categorical_dtype(dtype)\n"
     ]
    },
    {
     "data": {
      "text/plain": [
       "0.7449392712550608"
      ]
     },
     "execution_count": 213,
     "metadata": {},
     "output_type": "execute_result"
    }
   ],
   "source": [
    "# model = XGBClassifier(n_estimators=1000, learning_rate=2e-2, early_stopping_rounds=5, random_state=0)\n",
    "# model = XGBClassifier(n_estimators=1000, learning_rate=2e-2, early_stopping_rounds=100, random_state=0)\n",
    "params = {'n_estimators': 400,\n",
    "            'learning_rate': 0.05,\n",
    "            'max_depth': 4,\n",
    "            'subsample': 0.8,\n",
    "            'colsample_bytree': 0.1,\n",
    "            'n_jobs': -1,\n",
    "            'eval_metric': 'mlogloss',\n",
    "            'objective': 'multi:softprob',\n",
    "            'tree_method': 'hist',\n",
    "            'random_state': 42,\n",
    "        }\n",
    "#model = XGBClassifier(n_estimators=1000, learning_rate=1e-2, early_stopping_rounds=5, random_state=0)\n",
    "model = XGBClassifier(**params)\n",
    "X_train = encoded_X.drop(columns=['id']) \n",
    "X_train, X_valid = train_test_split(X_train, test_size=0.2, random_state=42)\n",
    "y_train, y_valid = encoded_y[X_train.index], encoded_y[X_valid.index]\n",
    "model.fit(X_train, y_train, eval_set=[(X_valid, y_valid)], verbose=0)\n",
    "model.score(X_valid, y_valid)"
   ]
  },
  {
   "cell_type": "code",
   "execution_count": 214,
   "metadata": {},
   "outputs": [
    {
     "name": "stderr",
     "output_type": "stream",
     "text": [
      "/Users/douglas/miniconda3/envs/kaggle/lib/python3.11/site-packages/xgboost/data.py:335: FutureWarning: is_sparse is deprecated and will be removed in a future version. Check `isinstance(dtype, pd.SparseDtype)` instead.\n",
      "  if is_sparse(dtype):\n",
      "/Users/douglas/miniconda3/envs/kaggle/lib/python3.11/site-packages/xgboost/data.py:338: FutureWarning: is_categorical_dtype is deprecated and will be removed in a future version. Use isinstance(dtype, CategoricalDtype) instead\n",
      "  is_categorical_dtype(dtype) or is_pa_ext_categorical_dtype(dtype)\n",
      "/Users/douglas/miniconda3/envs/kaggle/lib/python3.11/site-packages/xgboost/data.py:384: FutureWarning: is_categorical_dtype is deprecated and will be removed in a future version. Use isinstance(dtype, CategoricalDtype) instead\n",
      "  if is_categorical_dtype(dtype):\n",
      "/Users/douglas/miniconda3/envs/kaggle/lib/python3.11/site-packages/xgboost/data.py:359: FutureWarning: is_categorical_dtype is deprecated and will be removed in a future version. Use isinstance(dtype, CategoricalDtype) instead\n",
      "  return is_int or is_bool or is_float or is_categorical_dtype(dtype)\n"
     ]
    },
    {
     "data": {
      "text/html": [
       "<div>\n",
       "<style scoped>\n",
       "    .dataframe tbody tr th:only-of-type {\n",
       "        vertical-align: middle;\n",
       "    }\n",
       "\n",
       "    .dataframe tbody tr th {\n",
       "        vertical-align: top;\n",
       "    }\n",
       "\n",
       "    .dataframe thead th {\n",
       "        text-align: right;\n",
       "    }\n",
       "</style>\n",
       "<table border=\"1\" class=\"dataframe\">\n",
       "  <thead>\n",
       "    <tr style=\"text-align: right;\">\n",
       "      <th></th>\n",
       "      <th>id</th>\n",
       "      <th>outcome</th>\n",
       "    </tr>\n",
       "  </thead>\n",
       "  <tbody>\n",
       "    <tr>\n",
       "      <th>0</th>\n",
       "      <td>1235</td>\n",
       "      <td>lived</td>\n",
       "    </tr>\n",
       "    <tr>\n",
       "      <th>1</th>\n",
       "      <td>1236</td>\n",
       "      <td>died</td>\n",
       "    </tr>\n",
       "    <tr>\n",
       "      <th>2</th>\n",
       "      <td>1237</td>\n",
       "      <td>lived</td>\n",
       "    </tr>\n",
       "    <tr>\n",
       "      <th>3</th>\n",
       "      <td>1238</td>\n",
       "      <td>euthanized</td>\n",
       "    </tr>\n",
       "    <tr>\n",
       "      <th>4</th>\n",
       "      <td>1239</td>\n",
       "      <td>lived</td>\n",
       "    </tr>\n",
       "    <tr>\n",
       "      <th>5</th>\n",
       "      <td>1240</td>\n",
       "      <td>died</td>\n",
       "    </tr>\n",
       "    <tr>\n",
       "      <th>6</th>\n",
       "      <td>1241</td>\n",
       "      <td>died</td>\n",
       "    </tr>\n",
       "    <tr>\n",
       "      <th>7</th>\n",
       "      <td>1242</td>\n",
       "      <td>died</td>\n",
       "    </tr>\n",
       "    <tr>\n",
       "      <th>8</th>\n",
       "      <td>1243</td>\n",
       "      <td>lived</td>\n",
       "    </tr>\n",
       "    <tr>\n",
       "      <th>9</th>\n",
       "      <td>1244</td>\n",
       "      <td>lived</td>\n",
       "    </tr>\n",
       "  </tbody>\n",
       "</table>\n",
       "</div>"
      ],
      "text/plain": [
       "     id     outcome\n",
       "0  1235       lived\n",
       "1  1236        died\n",
       "2  1237       lived\n",
       "3  1238  euthanized\n",
       "4  1239       lived\n",
       "5  1240        died\n",
       "6  1241        died\n",
       "7  1242        died\n",
       "8  1243       lived\n",
       "9  1244       lived"
      ]
     },
     "metadata": {},
     "output_type": "display_data"
    }
   ],
   "source": [
    "predictions = model.predict(encoded_X_test.drop(columns=['id']))\n",
    "submission_df = pd.DataFrame({'id': ids, 'outcome': [reverse_mapping[prediction] for prediction in predictions]})\n",
    "display(submission_df.head(10))\n",
    "submission_df.to_csv('data/submission_xgb_classifier_3.csv', index=False)"
   ]
  },
  {
   "cell_type": "code",
   "execution_count": null,
   "metadata": {},
   "outputs": [],
   "source": []
  }
 ],
 "metadata": {
  "kernelspec": {
   "display_name": "Python 3",
   "language": "python",
   "name": "python3"
  },
  "language_info": {
   "codemirror_mode": {
    "name": "ipython",
    "version": 3
   },
   "file_extension": ".py",
   "mimetype": "text/x-python",
   "name": "python",
   "nbconvert_exporter": "python",
   "pygments_lexer": "ipython3",
   "version": "3.11.5"
  },
  "orig_nbformat": 4
 },
 "nbformat": 4,
 "nbformat_minor": 2
}
